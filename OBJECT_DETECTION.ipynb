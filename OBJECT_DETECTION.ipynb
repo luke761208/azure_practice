{
 "cells": [
  {
   "cell_type": "markdown",
   "id": "5df0d1ff",
   "metadata": {},
   "source": [
    "# 物件偵測"
   ]
  },
  {
   "cell_type": "code",
   "execution_count": 3,
   "id": "e2ace3f0",
   "metadata": {
    "collapsed": true
   },
   "outputs": [
    {
     "name": "stdout",
     "output_type": "stream",
     "text": [
      "Collecting azure-cognitiveservices-vision-computervision\n",
      "  Using cached https://files.pythonhosted.org/packages/f4/cc/d371c24ef8e984c1dfde5c7837c4ab03dc3cdafc321d1f733518e5148567/azure_cognitiveservices_vision_computervision-0.9.0-py2.py3-none-any.whl\n",
      "Collecting msrest>=0.5.0 (from azure-cognitiveservices-vision-computervision)\n",
      "  Using cached https://files.pythonhosted.org/packages/e8/cc/6c96bfb3d3cf4c3bdedfa6b46503223f4c2a4fa388377697e0f8082a4fed/msrest-0.6.21-py2.py3-none-any.whl\n",
      "Collecting azure-common~=1.1 (from azure-cognitiveservices-vision-computervision)\n",
      "  Using cached https://files.pythonhosted.org/packages/9e/1e/cfe7987493242e8b9ead309cfd76fc500c38bbefe192192b813325d289f3/azure_common-1.1.27-py2.py3-none-any.whl\n",
      "Collecting isodate>=0.6.0 (from msrest>=0.5.0->azure-cognitiveservices-vision-computervision)\n",
      "  Using cached https://files.pythonhosted.org/packages/9b/9f/b36f7774ff5ea8e428fdcfc4bb332c39ee5b9362ddd3d40d9516a55221b2/isodate-0.6.0-py2.py3-none-any.whl\n",
      "Collecting certifi>=2017.4.17 (from msrest>=0.5.0->azure-cognitiveservices-vision-computervision)\n",
      "  Using cached https://files.pythonhosted.org/packages/05/1b/0a0dece0e8aa492a6ec9e4ad2fe366b511558cdc73fd3abc82ba7348e875/certifi-2021.5.30-py2.py3-none-any.whl\n",
      "Collecting requests-oauthlib>=0.5.0 (from msrest>=0.5.0->azure-cognitiveservices-vision-computervision)\n",
      "  Using cached https://files.pythonhosted.org/packages/a3/12/b92740d845ab62ea4edf04d2f4164d82532b5a0b03836d4d4e71c6f3d379/requests_oauthlib-1.3.0-py2.py3-none-any.whl\n",
      "Collecting requests~=2.16 (from msrest>=0.5.0->azure-cognitiveservices-vision-computervision)\n",
      "  Using cached https://files.pythonhosted.org/packages/92/96/144f70b972a9c0eabbd4391ef93ccd49d0f2747f4f6a2a2738e99e5adc65/requests-2.26.0-py2.py3-none-any.whl\n",
      "Collecting six (from isodate>=0.6.0->msrest>=0.5.0->azure-cognitiveservices-vision-computervision)\n",
      "  Using cached https://files.pythonhosted.org/packages/d9/5a/e7c31adbe875f2abbb91bd84cf2dc52d792b5a01506781dbcf25c91daf11/six-1.16.0-py2.py3-none-any.whl\n",
      "Collecting oauthlib>=3.0.0 (from requests-oauthlib>=0.5.0->msrest>=0.5.0->azure-cognitiveservices-vision-computervision)\n",
      "  Using cached https://files.pythonhosted.org/packages/e8/5d/9dd1c29e5a786525f6342f6c1d812ed2e37edc653ad297048c1668988053/oauthlib-3.1.1-py2.py3-none-any.whl\n",
      "Collecting urllib3<1.27,>=1.21.1 (from requests~=2.16->msrest>=0.5.0->azure-cognitiveservices-vision-computervision)\n",
      "  Using cached https://files.pythonhosted.org/packages/5f/64/43575537846896abac0b15c3e5ac678d787a4021e906703f1766bfb8ea11/urllib3-1.26.6-py2.py3-none-any.whl\n",
      "Collecting charset-normalizer~=2.0.0; python_version >= \"3\" (from requests~=2.16->msrest>=0.5.0->azure-cognitiveservices-vision-computervision)\n",
      "  Using cached https://files.pythonhosted.org/packages/33/53/b7f6126a2b9fd878b025fe3c40266cfaad696f312165008ce045bffa3fe7/charset_normalizer-2.0.4-py3-none-any.whl\n",
      "Collecting idna<4,>=2.5; python_version >= \"3\" (from requests~=2.16->msrest>=0.5.0->azure-cognitiveservices-vision-computervision)\n",
      "  Using cached https://files.pythonhosted.org/packages/d7/77/ff688d1504cdc4db2a938e2b7b9adee5dd52e34efbd2431051efc9984de9/idna-3.2-py3-none-any.whl\n",
      "Installing collected packages: six, isodate, certifi, urllib3, charset-normalizer, idna, requests, oauthlib, requests-oauthlib, msrest, azure-common, azure-cognitiveservices-vision-computervision\n",
      "Successfully installed azure-cognitiveservices-vision-computervision-0.9.0 azure-common-1.1.27 certifi-2021.5.30 charset-normalizer-2.0.4 idna-3.2 isodate-0.6.0 msrest-0.6.21 oauthlib-3.1.1 requests-2.26.0 requests-oauthlib-1.3.0 six-1.16.0 urllib3-1.26.6\n",
      "Note: you may need to restart the kernel to use updated packages.\n"
     ]
    }
   ],
   "source": [
    "pip install azure-cognitiveservices-vision-computervision"
   ]
  },
  {
   "cell_type": "code",
   "execution_count": 1,
   "id": "9361ee79",
   "metadata": {},
   "outputs": [],
   "source": [
    "#測試連線，驗證用戶端\n",
    "from azure.cognitiveservices.vision.computervision \\\n",
    "import ComputerVisionClient\n",
    "from msrest.authentication import CognitiveServicesCredentials  \n",
    "\n",
    "SUBSCRIPTION_KEY = \"f7a28305feb74b6885686a7bc18a5d6b\"     # 金鑰隨便其一都可\n",
    "ENDPOINT = \"https://luke761208.cognitiveservices.azure.com/\"  # 端點\n",
    "CV_CLIENT = ComputerVisionClient(\n",
    "    ENDPOINT, CognitiveServicesCredentials(SUBSCRIPTION_KEY)\n",
    ")"
   ]
  },
  {
   "cell_type": "code",
   "execution_count": 4,
   "id": "38664408",
   "metadata": {
    "collapsed": true
   },
   "outputs": [
    {
     "name": "stdout",
     "output_type": "stream",
     "text": [
      "Collecting Pillow\n",
      "  Downloading https://files.pythonhosted.org/packages/8e/7a/b047f6f80fdb02c0cca1d3761d71e9800bcf6d4874b71c9e6548ec59e156/Pillow-8.3.1-cp37-cp37m-manylinux_2_5_x86_64.manylinux1_x86_64.whl (3.0MB)\n",
      "\u001b[K    100% |████████████████████████████████| 3.0MB 402kB/s eta 0:00:01\n",
      "\u001b[?25hInstalling collected packages: Pillow\n",
      "Successfully installed Pillow-8.3.1\n",
      "Note: you may need to restart the kernel to use updated packages.\n"
     ]
    }
   ],
   "source": [
    "pip install Pillow"
   ]
  },
  {
   "cell_type": "code",
   "execution_count": 8,
   "id": "95e5a253",
   "metadata": {
    "collapsed": true
   },
   "outputs": [
    {
     "name": "stdout",
     "output_type": "stream",
     "text": [
      "Collecting imgur-python\n",
      "  Downloading https://files.pythonhosted.org/packages/54/2d/a50ab5c5c89d6fdc35a8a5b5c309a9463e3a28bd3df8a5d5d6a8e5504c90/imgur_python-0.2.3-py3-none-any.whl\n",
      "Collecting fleep>=1.0 (from imgur-python)\n",
      "  Downloading https://files.pythonhosted.org/packages/7e/dc/4ff28535d084c2cbb99a2298f8b653bdd3fec0076c1a273d3c7a3e9679a5/fleep-1.0.1.tar.gz\n",
      "Collecting requests>=2.0 (from imgur-python)\n",
      "  Using cached https://files.pythonhosted.org/packages/92/96/144f70b972a9c0eabbd4391ef93ccd49d0f2747f4f6a2a2738e99e5adc65/requests-2.26.0-py2.py3-none-any.whl\n",
      "Collecting charset-normalizer~=2.0.0; python_version >= \"3\" (from requests>=2.0->imgur-python)\n",
      "  Using cached https://files.pythonhosted.org/packages/33/53/b7f6126a2b9fd878b025fe3c40266cfaad696f312165008ce045bffa3fe7/charset_normalizer-2.0.4-py3-none-any.whl\n",
      "Collecting certifi>=2017.4.17 (from requests>=2.0->imgur-python)\n",
      "  Using cached https://files.pythonhosted.org/packages/05/1b/0a0dece0e8aa492a6ec9e4ad2fe366b511558cdc73fd3abc82ba7348e875/certifi-2021.5.30-py2.py3-none-any.whl\n",
      "Collecting urllib3<1.27,>=1.21.1 (from requests>=2.0->imgur-python)\n",
      "  Using cached https://files.pythonhosted.org/packages/5f/64/43575537846896abac0b15c3e5ac678d787a4021e906703f1766bfb8ea11/urllib3-1.26.6-py2.py3-none-any.whl\n",
      "Collecting idna<4,>=2.5; python_version >= \"3\" (from requests>=2.0->imgur-python)\n",
      "  Using cached https://files.pythonhosted.org/packages/d7/77/ff688d1504cdc4db2a938e2b7b9adee5dd52e34efbd2431051efc9984de9/idna-3.2-py3-none-any.whl\n",
      "Building wheels for collected packages: fleep\n",
      "  Running setup.py bdist_wheel for fleep ... \u001b[?25ldone\n",
      "\u001b[?25h  Stored in directory: /home/lukelee/.cache/pip/wheels/5b/35/8c/49e6c44f34b3279ee3f7836384c29fd0ebe4d058e0e7cbf3b2\n",
      "Successfully built fleep\n",
      "Installing collected packages: fleep, charset-normalizer, certifi, urllib3, idna, requests, imgur-python\n",
      "Successfully installed certifi-2021.5.30 charset-normalizer-2.0.4 fleep-1.0.1 idna-3.2 imgur-python-0.2.3 requests-2.26.0 urllib3-1.26.6\n",
      "Note: you may need to restart the kernel to use updated packages.\n"
     ]
    }
   ],
   "source": [
    "pip install imgur-python"
   ]
  },
  {
   "cell_type": "code",
   "execution_count": 11,
   "id": "e19bc623",
   "metadata": {
    "collapsed": true
   },
   "outputs": [
    {
     "name": "stdout",
     "output_type": "stream",
     "text": [
      "Collecting imgur-python\n",
      "  Using cached https://files.pythonhosted.org/packages/54/2d/a50ab5c5c89d6fdc35a8a5b5c309a9463e3a28bd3df8a5d5d6a8e5504c90/imgur_python-0.2.3-py3-none-any.whl\n",
      "Collecting fleep>=1.0 (from imgur-python)\n",
      "Collecting requests>=2.0 (from imgur-python)\n",
      "  Using cached https://files.pythonhosted.org/packages/92/96/144f70b972a9c0eabbd4391ef93ccd49d0f2747f4f6a2a2738e99e5adc65/requests-2.26.0-py2.py3-none-any.whl\n",
      "Collecting idna<4,>=2.5; python_version >= \"3\" (from requests>=2.0->imgur-python)\n",
      "  Using cached https://files.pythonhosted.org/packages/d7/77/ff688d1504cdc4db2a938e2b7b9adee5dd52e34efbd2431051efc9984de9/idna-3.2-py3-none-any.whl\n",
      "Collecting certifi>=2017.4.17 (from requests>=2.0->imgur-python)\n",
      "  Using cached https://files.pythonhosted.org/packages/05/1b/0a0dece0e8aa492a6ec9e4ad2fe366b511558cdc73fd3abc82ba7348e875/certifi-2021.5.30-py2.py3-none-any.whl\n",
      "Collecting urllib3<1.27,>=1.21.1 (from requests>=2.0->imgur-python)\n",
      "  Using cached https://files.pythonhosted.org/packages/5f/64/43575537846896abac0b15c3e5ac678d787a4021e906703f1766bfb8ea11/urllib3-1.26.6-py2.py3-none-any.whl\n",
      "Collecting charset-normalizer~=2.0.0; python_version >= \"3\" (from requests>=2.0->imgur-python)\n",
      "  Using cached https://files.pythonhosted.org/packages/33/53/b7f6126a2b9fd878b025fe3c40266cfaad696f312165008ce045bffa3fe7/charset_normalizer-2.0.4-py3-none-any.whl\n",
      "Installing collected packages: fleep, idna, certifi, urllib3, charset-normalizer, requests, imgur-python\n",
      "Successfully installed certifi-2021.5.30 charset-normalizer-2.0.4 fleep-1.0.1 idna-3.2 imgur-python-0.2.3 requests-2.26.0 urllib3-1.26.6\n",
      "Note: you may need to restart the kernel to use updated packages.\n"
     ]
    }
   ],
   "source": [
    "pip install imgur-python"
   ]
  },
  {
   "cell_type": "code",
   "execution_count": 41,
   "id": "55cf4479",
   "metadata": {},
   "outputs": [
    {
     "name": "stdout",
     "output_type": "stream",
     "text": [
      "https://i.imgur.com/ZKZPKQe.jpeg\n"
     ]
    }
   ],
   "source": [
    "# 轉換url\n",
    "from imgur_python import Imgur\n",
    "\n",
    "IMGUR_CONFIG = {\n",
    "  \"client_id\": \"d89d1f0ca44b4a4\",\n",
    "  \"client_secret\": \"efb9174886a43ad1572352afab734a00506df5ba\",\n",
    "  \"access_token\": \"2fbc429f3a84798f12e95a3bd46a9e389741f000\",\n",
    "  \"refresh_token\": \"98cf739adc596ccd77af56e02ef98709ae223e34\"\n",
    "}\n",
    "IMGUR_CLIENT = Imgur(config=IMGUR_CONFIG)\n",
    "image = IMGUR_CLIENT.image_upload(\n",
    "  \"./nba.jpg\", \"title\", \"description\")\n",
    "link = image[\"response\"][\"data\"][\"link\"]\n",
    "\n",
    "print(link)"
   ]
  },
  {
   "cell_type": "code",
   "execution_count": 42,
   "id": "dd1a18d9",
   "metadata": {},
   "outputs": [],
   "source": [
    "from io import BytesIO\n",
    "import requests\n",
    "from PIL import Image, ImageDraw, ImageFont\n",
    "\n",
    "url = \"https://i.imgur.com/ZKZPKQe.jpeg\"  # 上傳照片到imgur，回傳的url\n",
    "response = requests.get(url)\n",
    "img = Image.open(BytesIO(response.content))"
   ]
  },
  {
   "cell_type": "code",
   "execution_count": 43,
   "id": "d8cf8ab4",
   "metadata": {},
   "outputs": [],
   "source": [
    "draw = ImageDraw.Draw(img)\n",
    "font_size = int(5e-2 * img.size[1])\n",
    "fnt = ImageFont.truetype(\n",
    "  \"./TaipeiSansTCBeta-Regular.ttf\",\n",
    "  size=font_size)"
   ]
  },
  {
   "cell_type": "code",
   "execution_count": 44,
   "id": "2ce194c3",
   "metadata": {},
   "outputs": [
    {
     "name": "stdout",
     "output_type": "stream",
     "text": [
      "person at location 56, 100, 130, 182\n"
     ]
    }
   ],
   "source": [
    "object_detection = CV_CLIENT.detect_objects(url)\n",
    "if len(object_detection.objects) > 0:\n",
    "    for obj in object_detection.objects:\n",
    "        left = obj.rectangle.x\n",
    "        top = obj.rectangle.y\n",
    "        right = obj.rectangle.x + obj.rectangle.w\n",
    "        bot = obj.rectangle.y + obj.rectangle.h\n",
    "        name = obj.object_property\n",
    "        confidence = obj.confidence\n",
    "        print(\"{} at location {}, {}, {}, {}\".format(\n",
    "          name, left, right, top, bot))\n",
    "        draw.rectangle(\n",
    "          [left, top, right, bot],\n",
    "          outline=(255, 0, 0), width=3)\n",
    "        draw.text(\n",
    "            [left, top + font_size],\n",
    "            \"{0} {1:0.1f}\".format(name, confidence * 100),\n",
    "            fill=(255, 0, 0),\n",
    "            font=fnt,\n",
    "        )\n",
    "        \n",
    "img.save(\"output.png\")"
   ]
  },
  {
   "cell_type": "code",
   "execution_count": 45,
   "id": "02f81400",
   "metadata": {},
   "outputs": [
    {
     "name": "stdout",
     "output_type": "stream",
     "text": [
      "'a basketball player jumping to dunk a basketball' with confidence 46.20% \n",
      "\n"
     ]
    }
   ],
   "source": [
    "description_results = CV_CLIENT.describe_image(url)\n",
    "output = \"\"\n",
    "for caption in description_results.captions:\n",
    "    output += \"'{}' with confidence {:.2f}% \\n\".format(\n",
    "        caption.text, caption.confidence * 100\n",
    "    )\n",
    "print(output)"
   ]
  },
  {
   "cell_type": "markdown",
   "id": "78d0ea71",
   "metadata": {},
   "source": [
    "# 文字辨識 OCR"
   ]
  },
  {
   "cell_type": "code",
   "execution_count": 30,
   "id": "4fe4f193",
   "metadata": {},
   "outputs": [],
   "source": [
    "from azure.cognitiveservices.vision.computervision \\\n",
    "import ComputerVisionClient\n",
    "from msrest.authentication import (\n",
    "  CognitiveServicesCredentials\n",
    ")\n",
    "from azure.cognitiveservices.vision.computervision.models \\\n",
    "import OperationStatusCodes\n",
    "SUBSCRIPTION_KEY = \"YOUR SUBSCRIPTION_KEY\"\n",
    "ENDPOINT = \"YOUR ENDPOINT\"\n",
    "CV_CLIENT = ComputerVisionClient(\n",
    "    ENDPOINT, CognitiveServicesCredentials(SUBSCRIPTION_KEY)\n",
    ")"
   ]
  },
  {
   "cell_type": "code",
   "execution_count": 22,
   "id": "7ae9275b",
   "metadata": {},
   "outputs": [
    {
     "name": "stdout",
     "output_type": "stream",
     "text": [
      "https://i.imgur.com/0OSAMRC.jpeg\n"
     ]
    }
   ],
   "source": [
    "# 轉換url\n",
    "from imgur_python import Imgur\n",
    "\n",
    "IMGUR_CONFIG = {\n",
    "  \"client_id\": \"d89d1f0ca44b4a4\",\n",
    "  \"client_secret\": \"efb9174886a43ad1572352afab734a00506df5ba\",\n",
    "  \"access_token\": \"2fbc429f3a84798f12e95a3bd46a9e389741f000\",\n",
    "  \"refresh_token\": \"98cf739adc596ccd77af56e02ef98709ae223e34\"\n",
    "}\n",
    "IMGUR_CLIENT = Imgur(config=IMGUR_CONFIG)\n",
    "image = IMGUR_CLIENT.image_upload(\n",
    "  \"./OCR.jpg\", \"title\", \"description\")\n",
    "link = image[\"response\"][\"data\"][\"link\"]\n",
    "\n",
    "print(link)"
   ]
  },
  {
   "cell_type": "code",
   "execution_count": 23,
   "id": "b483d301",
   "metadata": {},
   "outputs": [],
   "source": [
    "from io import BytesIO\n",
    "import requests\n",
    "from PIL import Image, ImageDraw, ImageFont\n",
    "\n",
    "url = \"https://i.imgur.com/0OSAMRC.jpeg\"\n",
    "response = requests.get(url)\n",
    "img = Image.open(BytesIO(response.content))"
   ]
  },
  {
   "cell_type": "code",
   "execution_count": 25,
   "id": "aa20aef2",
   "metadata": {},
   "outputs": [],
   "source": [
    "draw = ImageDraw.Draw(img)\n",
    "font_size = int(5e-2 * img.size[1])\n",
    "fnt = ImageFont.truetype(\n",
    "  \"./TaipeiSansTCBeta-Regular.ttf\",\n",
    "  size=font_size)"
   ]
  },
  {
   "cell_type": "code",
   "execution_count": 26,
   "id": "39e4e9bd",
   "metadata": {},
   "outputs": [],
   "source": [
    "ocr_results = CV_CLIENT.read(url, raw=True)\n",
    "operation_location_remote = \\\n",
    "ocr_results.headers[\"Operation-Location\"]\n",
    "operation_id = operation_location_remote.split(\"/\")[-1]"
   ]
  },
  {
   "cell_type": "code",
   "execution_count": 27,
   "id": "93de1ab8",
   "metadata": {},
   "outputs": [],
   "source": [
    "status = [\"notStarted\", \"running\"]\n",
    "while True:\n",
    "    get_handw_text_results = \\\n",
    "    CV_CLIENT.get_read_result(operation_id)\n",
    "    if get_handw_text_results.status not in status:\n",
    "        break\n",
    "    time.sleep(1)\n"
   ]
  },
  {
   "cell_type": "code",
   "execution_count": 33,
   "id": "fdae62f0",
   "metadata": {},
   "outputs": [],
   "source": [
    "succeeded = OperationStatusCodes.succeeded\n",
    "\n",
    "if get_handw_text_results.status == succeeded:\n",
    "    res = get_handw_text_results.analyze_result.read_results\n",
    "    for text_result in res:\n",
    "        for line in text_result.lines:\n",
    "            bounding_box = line.bounding_box\n",
    "            bounding_box += bounding_box[:2]\n",
    "            draw.line(\n",
    "                line.bounding_box, \n",
    "                fill=(255, 0, 0), \n",
    "                width=int(font_size / 10)\n",
    "            )\n",
    "            left = line.bounding_box[0]\n",
    "            top = line.bounding_box[1]\n",
    "            draw.text(\n",
    "                [left, top - font_size],\n",
    "                line.text,\n",
    "                fill=(0, 255, 255),\n",
    "                font=fnt,\n",
    "            )\n",
    "            \n",
    "img.save(\"OCR_output.png\")"
   ]
  },
  {
   "cell_type": "code",
   "execution_count": 38,
   "id": "d47c8c13",
   "metadata": {},
   "outputs": [],
   "source": [
    "from azure.cognitiveservices.vision.computervision \\\n",
    "import ComputerVisionClient\n",
    "from msrest.authentication import (\n",
    "  CognitiveServicesCredentials\n",
    ")\n",
    "SUBSCRIPTION_KEY = \"f7a28305feb74b6885686a7bc18a5d6b\"\n",
    "ENDPOINT = \"https://luke761208.cognitiveservices.azure.com/\"\n",
    "CV_CLIENT = ComputerVisionClient(\n",
    "    ENDPOINT, CognitiveServicesCredentials(SUBSCRIPTION_KEY)\n",
    ")"
   ]
  },
  {
   "cell_type": "code",
   "execution_count": 39,
   "id": "101b57fe",
   "metadata": {},
   "outputs": [
    {
     "name": "stdout",
     "output_type": "stream",
     "text": [
      "'text, letter' with confidence 100.00% \n",
      "\n"
     ]
    }
   ],
   "source": [
    "description_results = CV_CLIENT.describe_image(url)\n",
    "output = \"\"\n",
    "for caption in description_results.captions:\n",
    "    output += \"'{}' with confidence {:.2f}% \\n\".format(\n",
    "        caption.text, caption.confidence * 100\n",
    "    )\n",
    "print(output)"
   ]
  }
 ],
 "metadata": {
  "kernelspec": {
   "display_name": "Python 3 (ipykernel)",
   "language": "python",
   "name": "python3"
  },
  "language_info": {
   "codemirror_mode": {
    "name": "ipython",
    "version": 3
   },
   "file_extension": ".py",
   "mimetype": "text/x-python",
   "name": "python",
   "nbconvert_exporter": "python",
   "pygments_lexer": "ipython3",
   "version": "3.7.5"
  }
 },
 "nbformat": 4,
 "nbformat_minor": 5
}
