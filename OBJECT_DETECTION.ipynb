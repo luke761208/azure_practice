{
 "cells": [
  {
   "cell_type": "markdown",
   "id": "8a829c71",
   "metadata": {},
   "source": [
    "# 物件偵測"
   ]
  },
  {
   "cell_type": "code",
   "execution_count": 2,
   "id": "3486c6d4",
   "metadata": {},
   "outputs": [],
   "source": [
    "from sys import version\n"
   ]
  },
  {
   "cell_type": "code",
   "execution_count": 5,
   "id": "17700551",
   "metadata": {},
   "outputs": [
    {
     "name": "stdout",
     "output_type": "stream",
     "text": [
      "3.7.5 (default, Feb 23 2021, 13:22:40) \n",
      "[GCC 8.4.0]\n"
     ]
    }
   ],
   "source": [
    "print(version)"
   ]
  },
  {
   "cell_type": "code",
   "execution_count": 6,
   "id": "546faae6",
   "metadata": {},
   "outputs": [
    {
     "ename": "ModuleNotFoundError",
     "evalue": "No module named 'pandas'",
     "output_type": "error",
     "traceback": [
      "\u001b[0;31m---------------------------------------------------------------------------\u001b[0m",
      "\u001b[0;31mModuleNotFoundError\u001b[0m                       Traceback (most recent call last)",
      "\u001b[0;32m/tmp/ipykernel_1450/3648170110.py\u001b[0m in \u001b[0;36m<module>\u001b[0;34m\u001b[0m\n\u001b[0;32m----> 1\u001b[0;31m \u001b[0;32mimport\u001b[0m \u001b[0mpandas\u001b[0m\u001b[0;34m\u001b[0m\u001b[0;34m\u001b[0m\u001b[0m\n\u001b[0m",
      "\u001b[0;31mModuleNotFoundError\u001b[0m: No module named 'pandas'"
     ]
    }
   ],
   "source": [
    "import pandas"
   ]
  },
  {
   "cell_type": "code",
   "execution_count": 7,
   "id": "d6b374bc",
   "metadata": {
    "collapsed": true
   },
   "outputs": [
    {
     "name": "stdout",
     "output_type": "stream",
     "text": [
      "https://www.google.com/search?q=kaggle&rlz=1C1VDKB_zh-TWTW946TW946&oq=kagg&aqs=chrome.0.0i131i433j69i57j0l8.3083j0j7&sourceid=chrome&ie=UTF-8\r",
      "\r\n",
      "https://www.kaggle.com/\r",
      "\r\n",
      "https://blog.tibame.com/?p=17440\r",
      "\r\n",
      "https://www.kaggle.com/datasets\r",
      "\r\n",
      "https://zh-tw.coursera.org/search?query=andrew+ng\r",
      "\r\n",
      "https://zh-tw.coursera.org/\r",
      "\r\n",
      "https://www.youtube.com/watch?v=WIjXwOlXDYs&list=PLOXON7BTL9IW7Ggbc09jLqGmzkwPI4-3V\r",
      "\r\n",
      "https://www.youtube.com/results?search_query=%E6%9D%8E%E5%BC%98%E6%AF%85\r",
      "\r\n",
      "https://www.youtube.com/c/stanfordengineering/playlists\r",
      "\r\n",
      "https://www.edx.org/\r",
      "\r\n",
      "https://pandas.pydata.org/docs/reference/api/pandas.Timestamp.html\r",
      "\r\n",
      "https://experiments.withgoogle.com/\r",
      "\r\n",
      "https://www.it145.com/9/128879.html\r",
      "\r\n",
      "https://www.youtube.com/watch?v=7wWMP2elSvE&list=PLXO45tsB95cI7ZleLM5i3XXhhe9YmVrRO&index=3\r",
      "\r\n",
      "https://www.books.com.tw/products/0010846042\r",
      "\r\n",
      "https://www.eslite.com/product/1001313432681938529009?gclid=Cj0KCQjwnueFBhChARIsAPu3YkRdk8WxMJYdNm0oPGwVE1OGqau9iZKPQd-v3-S-GPTl7wrTQAx2MCoaAjvhEALw_wcB\r",
      "\r\n",
      "https://hackmd.io/@ritatang242/HJBneZORE\r",
      "\r\n",
      "https://allaboutdataanalysis.medium.com/%E6%A9%9F%E5%99%A8%E5%AD%B8%E7%BF%92%E6%A6%82%E5%BF%B5%E5%92%8C%E7%B6%93%E5%85%B8%E6%BC%94%E7%AE%97%E6%B3%95-%E6%88%91%E7%94%A8%E5%A4%A7%E7%99%BD%E8%A9%B1%E7%B5%A6%E4%BD%A0%E8%AC%9B%E6%B8%85%E6%A5%9A%E4%BA%86-%E5%85%A5%E9%96%80%E5%BF%85%E7%9C%8B-d6b0b500b021\r",
      "\r\n",
      "https://playground.tensorflow.org/#activation=relu&regularization=L1&batchSize=10&dataset=spiral&regDataset=reg-plane&learningRate=0.03&regularizationRate=0.03&noise=0&networkShape=5,4,5&seed=0.84019&showTestData=false&discretize=false&percTrainData=50&x=true&y=true&xTimesY=false&xSquared=false&ySquared=false&cosX=false&sinX=false&cosY=false&sinY=false&collectStats=false&problem=classification&initZero=false&hideText=false\r",
      "\r\n",
      "https://nodoubting.blogspot.com/2018/03/tensorflow-tensorboard.html\r",
      "\r\n",
      "https://cs.stanford.edu/people/karpathy/convnetjs/demo/mnist.html\r",
      "\r\n",
      "https://kknews.cc/code/ygpkm4j.html\r",
      "\r\n",
      "https://tfhub.dev/google/tf2-preview/inception_v3/classification/2\r",
      "\r\n",
      "https://drive.google.com/file/d/1RblxwJx_lemIvNdpHm57cZK0KdBSPlNv/view\r",
      "\r\n",
      "https://github.com/zzh8829/yolov3-tf2"
     ]
    }
   ],
   "source": [
    "!cat test.txt"
   ]
  },
  {
   "cell_type": "code",
   "execution_count": null,
   "id": "de6f44a4",
   "metadata": {},
   "outputs": [],
   "source": []
  },
  {
   "cell_type": "code",
   "execution_count": null,
   "id": "e61dcf07",
   "metadata": {},
   "outputs": [],
   "source": []
  },
  {
   "cell_type": "code",
   "execution_count": null,
   "id": "d9053074",
   "metadata": {
    "collapsed": true
   },
   "outputs": [
    {
     "name": "stdout",
     "output_type": "stream",
     "text": [
      "Uninstalling pyzmq-22.2.1:\r\n",
      "  /home/lukelee/.local/lib/python3.7/site-packages/pyzmq-22.2.1.dist-info/AUTHORS.md\r\n",
      "  /home/lukelee/.local/lib/python3.7/site-packages/pyzmq-22.2.1.dist-info/COPYING.BSD\r\n",
      "  /home/lukelee/.local/lib/python3.7/site-packages/pyzmq-22.2.1.dist-info/COPYING.LESSER\r\n",
      "  /home/lukelee/.local/lib/python3.7/site-packages/pyzmq-22.2.1.dist-info/INSTALLER\r\n",
      "  /home/lukelee/.local/lib/python3.7/site-packages/pyzmq-22.2.1.dist-info/METADATA\r\n",
      "  /home/lukelee/.local/lib/python3.7/site-packages/pyzmq-22.2.1.dist-info/RECORD\r\n",
      "  /home/lukelee/.local/lib/python3.7/site-packages/pyzmq-22.2.1.dist-info/WHEEL\r\n",
      "  /home/lukelee/.local/lib/python3.7/site-packages/pyzmq-22.2.1.dist-info/top_level.txt\r\n",
      "  /home/lukelee/.local/lib/python3.7/site-packages/pyzmq.libs/libsodium-bcf9f097.so.23.3.0\r\n",
      "  /home/lukelee/.local/lib/python3.7/site-packages/pyzmq.libs/libzmq-3ac619d3.so.5.2.4\r\n",
      "  /home/lukelee/.local/lib/python3.7/site-packages/zmq/__init__.pxd\r\n",
      "  /home/lukelee/.local/lib/python3.7/site-packages/zmq/__init__.py\r\n",
      "  /home/lukelee/.local/lib/python3.7/site-packages/zmq/__init__.pyi\r\n",
      "  /home/lukelee/.local/lib/python3.7/site-packages/zmq/__pycache__/__init__.cpython-37.pyc\r\n",
      "  /home/lukelee/.local/lib/python3.7/site-packages/zmq/__pycache__/_future.cpython-37.pyc\r\n",
      "  /home/lukelee/.local/lib/python3.7/site-packages/zmq/__pycache__/asyncio.cpython-37.pyc\r\n",
      "  /home/lukelee/.local/lib/python3.7/site-packages/zmq/__pycache__/decorators.cpython-37.pyc\r\n",
      "  /home/lukelee/.local/lib/python3.7/site-packages/zmq/__pycache__/error.cpython-37.pyc\r\n",
      "  /home/lukelee/.local/lib/python3.7/site-packages/zmq/_future.py\r\n",
      "  /home/lukelee/.local/lib/python3.7/site-packages/zmq/asyncio.py\r\n",
      "  /home/lukelee/.local/lib/python3.7/site-packages/zmq/auth/__init__.py\r\n",
      "  /home/lukelee/.local/lib/python3.7/site-packages/zmq/auth/__pycache__/__init__.cpython-37.pyc\r\n",
      "  /home/lukelee/.local/lib/python3.7/site-packages/zmq/auth/__pycache__/asyncio.cpython-37.pyc\r\n",
      "  /home/lukelee/.local/lib/python3.7/site-packages/zmq/auth/__pycache__/base.cpython-37.pyc\r\n",
      "  /home/lukelee/.local/lib/python3.7/site-packages/zmq/auth/__pycache__/certs.cpython-37.pyc\r\n",
      "  /home/lukelee/.local/lib/python3.7/site-packages/zmq/auth/__pycache__/ioloop.cpython-37.pyc\r\n",
      "  /home/lukelee/.local/lib/python3.7/site-packages/zmq/auth/__pycache__/thread.cpython-37.pyc\r\n",
      "  /home/lukelee/.local/lib/python3.7/site-packages/zmq/auth/asyncio.py\r\n",
      "  /home/lukelee/.local/lib/python3.7/site-packages/zmq/auth/base.py\r\n",
      "  /home/lukelee/.local/lib/python3.7/site-packages/zmq/auth/certs.py\r\n",
      "  /home/lukelee/.local/lib/python3.7/site-packages/zmq/auth/ioloop.py\r\n",
      "  /home/lukelee/.local/lib/python3.7/site-packages/zmq/auth/thread.py\r\n",
      "  /home/lukelee/.local/lib/python3.7/site-packages/zmq/backend/__init__.py\r\n",
      "  /home/lukelee/.local/lib/python3.7/site-packages/zmq/backend/__init__.pyi\r\n",
      "  /home/lukelee/.local/lib/python3.7/site-packages/zmq/backend/__pycache__/__init__.cpython-37.pyc\r\n",
      "  /home/lukelee/.local/lib/python3.7/site-packages/zmq/backend/__pycache__/select.cpython-37.pyc\r\n",
      "  /home/lukelee/.local/lib/python3.7/site-packages/zmq/backend/cffi/__init__.py\r\n",
      "  /home/lukelee/.local/lib/python3.7/site-packages/zmq/backend/cffi/__pycache__/__init__.cpython-37.pyc\r\n",
      "  /home/lukelee/.local/lib/python3.7/site-packages/zmq/backend/cffi/__pycache__/_poll.cpython-37.pyc\r\n",
      "  /home/lukelee/.local/lib/python3.7/site-packages/zmq/backend/cffi/__pycache__/constants.cpython-37.pyc\r\n",
      "  /home/lukelee/.local/lib/python3.7/site-packages/zmq/backend/cffi/__pycache__/context.cpython-37.pyc\r\n",
      "  /home/lukelee/.local/lib/python3.7/site-packages/zmq/backend/cffi/__pycache__/devices.cpython-37.pyc\r\n",
      "  /home/lukelee/.local/lib/python3.7/site-packages/zmq/backend/cffi/__pycache__/error.cpython-37.pyc\r\n",
      "  /home/lukelee/.local/lib/python3.7/site-packages/zmq/backend/cffi/__pycache__/message.cpython-37.pyc\r\n",
      "  /home/lukelee/.local/lib/python3.7/site-packages/zmq/backend/cffi/__pycache__/socket.cpython-37.pyc\r\n",
      "  /home/lukelee/.local/lib/python3.7/site-packages/zmq/backend/cffi/__pycache__/utils.cpython-37.pyc\r\n",
      "  /home/lukelee/.local/lib/python3.7/site-packages/zmq/backend/cffi/_cdefs.h\r\n",
      "  /home/lukelee/.local/lib/python3.7/site-packages/zmq/backend/cffi/_poll.py\r\n",
      "  /home/lukelee/.local/lib/python3.7/site-packages/zmq/backend/cffi/constants.py\r\n",
      "  /home/lukelee/.local/lib/python3.7/site-packages/zmq/backend/cffi/context.py\r\n",
      "  /home/lukelee/.local/lib/python3.7/site-packages/zmq/backend/cffi/devices.py\r\n",
      "  /home/lukelee/.local/lib/python3.7/site-packages/zmq/backend/cffi/error.py\r\n",
      "  /home/lukelee/.local/lib/python3.7/site-packages/zmq/backend/cffi/message.py\r\n",
      "  /home/lukelee/.local/lib/python3.7/site-packages/zmq/backend/cffi/socket.py\r\n",
      "  /home/lukelee/.local/lib/python3.7/site-packages/zmq/backend/cffi/utils.py\r\n",
      "  /home/lukelee/.local/lib/python3.7/site-packages/zmq/backend/constants.pyi\r\n",
      "  /home/lukelee/.local/lib/python3.7/site-packages/zmq/backend/cython/__init__.pxd\r\n",
      "  /home/lukelee/.local/lib/python3.7/site-packages/zmq/backend/cython/__init__.py\r\n",
      "  /home/lukelee/.local/lib/python3.7/site-packages/zmq/backend/cython/__pycache__/__init__.cpython-37.pyc\r\n",
      "  /home/lukelee/.local/lib/python3.7/site-packages/zmq/backend/cython/_device.cpython-37m-x86_64-linux-gnu.so\r\n",
      "  /home/lukelee/.local/lib/python3.7/site-packages/zmq/backend/cython/_poll.cpython-37m-x86_64-linux-gnu.so\r\n",
      "  /home/lukelee/.local/lib/python3.7/site-packages/zmq/backend/cython/_proxy_steerable.cpython-37m-x86_64-linux-gnu.so\r\n",
      "  /home/lukelee/.local/lib/python3.7/site-packages/zmq/backend/cython/_version.cpython-37m-x86_64-linux-gnu.so\r\n",
      "  /home/lukelee/.local/lib/python3.7/site-packages/zmq/backend/cython/checkrc.pxd\r\n",
      "  /home/lukelee/.local/lib/python3.7/site-packages/zmq/backend/cython/constant_enums.pxi\r\n",
      "  /home/lukelee/.local/lib/python3.7/site-packages/zmq/backend/cython/constants.cpython-37m-x86_64-linux-gnu.so\r\n",
      "  /home/lukelee/.local/lib/python3.7/site-packages/zmq/backend/cython/constants.pxi\r\n",
      "  /home/lukelee/.local/lib/python3.7/site-packages/zmq/backend/cython/context.cpython-37m-x86_64-linux-gnu.so\r\n",
      "  /home/lukelee/.local/lib/python3.7/site-packages/zmq/backend/cython/context.pxd\r\n",
      "  /home/lukelee/.local/lib/python3.7/site-packages/zmq/backend/cython/error.cpython-37m-x86_64-linux-gnu.so\r\n",
      "  /home/lukelee/.local/lib/python3.7/site-packages/zmq/backend/cython/libzmq.pxd\r\n",
      "  /home/lukelee/.local/lib/python3.7/site-packages/zmq/backend/cython/message.cpython-37m-x86_64-linux-gnu.so\r\n",
      "  /home/lukelee/.local/lib/python3.7/site-packages/zmq/backend/cython/message.pxd\r\n",
      "  /home/lukelee/.local/lib/python3.7/site-packages/zmq/backend/cython/socket.cpython-37m-x86_64-linux-gnu.so\r\n",
      "  /home/lukelee/.local/lib/python3.7/site-packages/zmq/backend/cython/socket.pxd\r\n",
      "  /home/lukelee/.local/lib/python3.7/site-packages/zmq/backend/cython/utils.cpython-37m-x86_64-linux-gnu.so\r\n",
      "  /home/lukelee/.local/lib/python3.7/site-packages/zmq/backend/select.py\r\n",
      "  /home/lukelee/.local/lib/python3.7/site-packages/zmq/decorators.py\r\n",
      "  /home/lukelee/.local/lib/python3.7/site-packages/zmq/devices/__init__.py\r\n",
      "  /home/lukelee/.local/lib/python3.7/site-packages/zmq/devices/__pycache__/__init__.cpython-37.pyc\r\n",
      "  /home/lukelee/.local/lib/python3.7/site-packages/zmq/devices/__pycache__/basedevice.cpython-37.pyc\r\n",
      "  /home/lukelee/.local/lib/python3.7/site-packages/zmq/devices/__pycache__/monitoredqueue.cpython-37.pyc\r\n",
      "  /home/lukelee/.local/lib/python3.7/site-packages/zmq/devices/__pycache__/monitoredqueuedevice.cpython-37.pyc\r\n",
      "  /home/lukelee/.local/lib/python3.7/site-packages/zmq/devices/__pycache__/proxydevice.cpython-37.pyc\r\n",
      "  /home/lukelee/.local/lib/python3.7/site-packages/zmq/devices/__pycache__/proxysteerabledevice.cpython-37.pyc\r\n",
      "  /home/lukelee/.local/lib/python3.7/site-packages/zmq/devices/basedevice.py\r\n",
      "  /home/lukelee/.local/lib/python3.7/site-packages/zmq/devices/monitoredqueue.cpython-37m-x86_64-linux-gnu.so\r\n",
      "  /home/lukelee/.local/lib/python3.7/site-packages/zmq/devices/monitoredqueue.pxd\r\n",
      "  /home/lukelee/.local/lib/python3.7/site-packages/zmq/devices/monitoredqueue.py\r\n",
      "  /home/lukelee/.local/lib/python3.7/site-packages/zmq/devices/monitoredqueuedevice.py\r\n",
      "  /home/lukelee/.local/lib/python3.7/site-packages/zmq/devices/proxydevice.py\r\n",
      "  /home/lukelee/.local/lib/python3.7/site-packages/zmq/devices/proxysteerabledevice.py\r\n",
      "  /home/lukelee/.local/lib/python3.7/site-packages/zmq/error.py\r\n",
      "  /home/lukelee/.local/lib/python3.7/site-packages/zmq/eventloop/__init__.py\r\n",
      "  /home/lukelee/.local/lib/python3.7/site-packages/zmq/eventloop/__pycache__/__init__.cpython-37.pyc\r\n",
      "  /home/lukelee/.local/lib/python3.7/site-packages/zmq/eventloop/__pycache__/_deprecated.cpython-37.pyc\r\n",
      "  /home/lukelee/.local/lib/python3.7/site-packages/zmq/eventloop/__pycache__/future.cpython-37.pyc\r\n",
      "  /home/lukelee/.local/lib/python3.7/site-packages/zmq/eventloop/__pycache__/ioloop.cpython-37.pyc\r\n",
      "  /home/lukelee/.local/lib/python3.7/site-packages/zmq/eventloop/__pycache__/zmqstream.cpython-37.pyc\r\n",
      "  /home/lukelee/.local/lib/python3.7/site-packages/zmq/eventloop/_deprecated.py\r\n",
      "  /home/lukelee/.local/lib/python3.7/site-packages/zmq/eventloop/future.py\r\n",
      "  /home/lukelee/.local/lib/python3.7/site-packages/zmq/eventloop/ioloop.py\r\n",
      "  /home/lukelee/.local/lib/python3.7/site-packages/zmq/eventloop/minitornado/__init__.py\r\n",
      "  /home/lukelee/.local/lib/python3.7/site-packages/zmq/eventloop/minitornado/__pycache__/__init__.cpython-37.pyc\r\n",
      "  /home/lukelee/.local/lib/python3.7/site-packages/zmq/eventloop/minitornado/__pycache__/concurrent.cpython-37.pyc\r\n",
      "  /home/lukelee/.local/lib/python3.7/site-packages/zmq/eventloop/minitornado/__pycache__/ioloop.cpython-37.pyc\r\n",
      "  /home/lukelee/.local/lib/python3.7/site-packages/zmq/eventloop/minitornado/__pycache__/log.cpython-37.pyc\r\n",
      "  /home/lukelee/.local/lib/python3.7/site-packages/zmq/eventloop/minitornado/__pycache__/stack_context.cpython-37.pyc\r\n",
      "  /home/lukelee/.local/lib/python3.7/site-packages/zmq/eventloop/minitornado/__pycache__/util.cpython-37.pyc\r\n",
      "  /home/lukelee/.local/lib/python3.7/site-packages/zmq/eventloop/minitornado/concurrent.py\r\n",
      "  /home/lukelee/.local/lib/python3.7/site-packages/zmq/eventloop/minitornado/ioloop.py\r\n",
      "  /home/lukelee/.local/lib/python3.7/site-packages/zmq/eventloop/minitornado/log.py\r\n",
      "  /home/lukelee/.local/lib/python3.7/site-packages/zmq/eventloop/minitornado/platform/__init__.py\r\n",
      "  /home/lukelee/.local/lib/python3.7/site-packages/zmq/eventloop/minitornado/platform/__pycache__/__init__.cpython-37.pyc\r\n",
      "  /home/lukelee/.local/lib/python3.7/site-packages/zmq/eventloop/minitornado/platform/__pycache__/auto.cpython-37.pyc\r\n",
      "  /home/lukelee/.local/lib/python3.7/site-packages/zmq/eventloop/minitornado/platform/__pycache__/common.cpython-37.pyc\r\n",
      "  /home/lukelee/.local/lib/python3.7/site-packages/zmq/eventloop/minitornado/platform/__pycache__/interface.cpython-37.pyc\r\n",
      "  /home/lukelee/.local/lib/python3.7/site-packages/zmq/eventloop/minitornado/platform/__pycache__/posix.cpython-37.pyc\r\n",
      "  /home/lukelee/.local/lib/python3.7/site-packages/zmq/eventloop/minitornado/platform/__pycache__/windows.cpython-37.pyc\r\n",
      "  /home/lukelee/.local/lib/python3.7/site-packages/zmq/eventloop/minitornado/platform/auto.py\r\n",
      "  /home/lukelee/.local/lib/python3.7/site-packages/zmq/eventloop/minitornado/platform/common.py\r\n",
      "  /home/lukelee/.local/lib/python3.7/site-packages/zmq/eventloop/minitornado/platform/interface.py\r\n",
      "  /home/lukelee/.local/lib/python3.7/site-packages/zmq/eventloop/minitornado/platform/posix.py\r\n",
      "  /home/lukelee/.local/lib/python3.7/site-packages/zmq/eventloop/minitornado/platform/windows.py\r\n",
      "  /home/lukelee/.local/lib/python3.7/site-packages/zmq/eventloop/minitornado/stack_context.py\r\n",
      "  /home/lukelee/.local/lib/python3.7/site-packages/zmq/eventloop/minitornado/util.py\r\n",
      "  /home/lukelee/.local/lib/python3.7/site-packages/zmq/eventloop/zmqstream.py\r\n",
      "  /home/lukelee/.local/lib/python3.7/site-packages/zmq/green/__init__.py\r\n",
      "  /home/lukelee/.local/lib/python3.7/site-packages/zmq/green/__pycache__/__init__.cpython-37.pyc\r\n",
      "  /home/lukelee/.local/lib/python3.7/site-packages/zmq/green/__pycache__/core.cpython-37.pyc\r\n",
      "  /home/lukelee/.local/lib/python3.7/site-packages/zmq/green/__pycache__/device.cpython-37.pyc\r\n",
      "  /home/lukelee/.local/lib/python3.7/site-packages/zmq/green/__pycache__/poll.cpython-37.pyc\r\n",
      "  /home/lukelee/.local/lib/python3.7/site-packages/zmq/green/core.py\r\n",
      "  /home/lukelee/.local/lib/python3.7/site-packages/zmq/green/device.py\r\n",
      "  /home/lukelee/.local/lib/python3.7/site-packages/zmq/green/eventloop/__init__.py\r\n",
      "  /home/lukelee/.local/lib/python3.7/site-packages/zmq/green/eventloop/__pycache__/__init__.cpython-37.pyc\r\n",
      "  /home/lukelee/.local/lib/python3.7/site-packages/zmq/green/eventloop/__pycache__/ioloop.cpython-37.pyc\r\n",
      "  /home/lukelee/.local/lib/python3.7/site-packages/zmq/green/eventloop/__pycache__/zmqstream.cpython-37.pyc\r\n",
      "  /home/lukelee/.local/lib/python3.7/site-packages/zmq/green/eventloop/ioloop.py\r\n",
      "  /home/lukelee/.local/lib/python3.7/site-packages/zmq/green/eventloop/zmqstream.py\r\n",
      "  /home/lukelee/.local/lib/python3.7/site-packages/zmq/green/poll.py\r\n",
      "  /home/lukelee/.local/lib/python3.7/site-packages/zmq/log/__init__.py\r\n",
      "  /home/lukelee/.local/lib/python3.7/site-packages/zmq/log/__main__.py\r\n",
      "  /home/lukelee/.local/lib/python3.7/site-packages/zmq/log/__pycache__/__init__.cpython-37.pyc\r\n",
      "  /home/lukelee/.local/lib/python3.7/site-packages/zmq/log/__pycache__/__main__.cpython-37.pyc\r\n",
      "  /home/lukelee/.local/lib/python3.7/site-packages/zmq/log/__pycache__/handlers.cpython-37.pyc\r\n",
      "  /home/lukelee/.local/lib/python3.7/site-packages/zmq/log/handlers.py\r\n",
      "  /home/lukelee/.local/lib/python3.7/site-packages/zmq/py.typed\r\n",
      "  /home/lukelee/.local/lib/python3.7/site-packages/zmq/ssh/__init__.py\r\n",
      "  /home/lukelee/.local/lib/python3.7/site-packages/zmq/ssh/__pycache__/__init__.cpython-37.pyc\r\n",
      "  /home/lukelee/.local/lib/python3.7/site-packages/zmq/ssh/__pycache__/forward.cpython-37.pyc\r\n",
      "  /home/lukelee/.local/lib/python3.7/site-packages/zmq/ssh/__pycache__/tunnel.cpython-37.pyc\r\n",
      "  /home/lukelee/.local/lib/python3.7/site-packages/zmq/ssh/forward.py\r\n",
      "  /home/lukelee/.local/lib/python3.7/site-packages/zmq/ssh/tunnel.py\r\n",
      "  /home/lukelee/.local/lib/python3.7/site-packages/zmq/sugar/__init__.py\r\n",
      "  /home/lukelee/.local/lib/python3.7/site-packages/zmq/sugar/__init__.pyi\r\n",
      "  /home/lukelee/.local/lib/python3.7/site-packages/zmq/sugar/__pycache__/__init__.cpython-37.pyc\r\n",
      "  /home/lukelee/.local/lib/python3.7/site-packages/zmq/sugar/__pycache__/attrsettr.cpython-37.pyc\r\n",
      "  /home/lukelee/.local/lib/python3.7/site-packages/zmq/sugar/__pycache__/constants.cpython-37.pyc\r\n",
      "  /home/lukelee/.local/lib/python3.7/site-packages/zmq/sugar/__pycache__/context.cpython-37.pyc\r\n",
      "  /home/lukelee/.local/lib/python3.7/site-packages/zmq/sugar/__pycache__/frame.cpython-37.pyc\r\n",
      "  /home/lukelee/.local/lib/python3.7/site-packages/zmq/sugar/__pycache__/poll.cpython-37.pyc\r\n",
      "  /home/lukelee/.local/lib/python3.7/site-packages/zmq/sugar/__pycache__/socket.cpython-37.pyc\r\n",
      "  /home/lukelee/.local/lib/python3.7/site-packages/zmq/sugar/__pycache__/stopwatch.cpython-37.pyc\r\n",
      "  /home/lukelee/.local/lib/python3.7/site-packages/zmq/sugar/__pycache__/tracker.cpython-37.pyc\r\n",
      "  /home/lukelee/.local/lib/python3.7/site-packages/zmq/sugar/__pycache__/version.cpython-37.pyc\r\n",
      "  /home/lukelee/.local/lib/python3.7/site-packages/zmq/sugar/attrsettr.py\r\n",
      "  /home/lukelee/.local/lib/python3.7/site-packages/zmq/sugar/constants.py\r\n",
      "  /home/lukelee/.local/lib/python3.7/site-packages/zmq/sugar/constants.pyi\r\n",
      "  /home/lukelee/.local/lib/python3.7/site-packages/zmq/sugar/context.py\r\n",
      "  /home/lukelee/.local/lib/python3.7/site-packages/zmq/sugar/frame.py\r\n",
      "  /home/lukelee/.local/lib/python3.7/site-packages/zmq/sugar/poll.py\r\n",
      "  /home/lukelee/.local/lib/python3.7/site-packages/zmq/sugar/socket.py\r\n",
      "  /home/lukelee/.local/lib/python3.7/site-packages/zmq/sugar/stopwatch.py\r\n",
      "  /home/lukelee/.local/lib/python3.7/site-packages/zmq/sugar/tracker.py\r\n",
      "  /home/lukelee/.local/lib/python3.7/site-packages/zmq/sugar/version.py\r\n",
      "  /home/lukelee/.local/lib/python3.7/site-packages/zmq/tests/__init__.py\r\n",
      "  /home/lukelee/.local/lib/python3.7/site-packages/zmq/tests/__pycache__/__init__.cpython-37.pyc\r\n",
      "  /home/lukelee/.local/lib/python3.7/site-packages/zmq/tests/__pycache__/conftest.cpython-37.pyc\r\n",
      "  /home/lukelee/.local/lib/python3.7/site-packages/zmq/tests/__pycache__/test_asyncio.cpython-37.pyc\r\n",
      "  /home/lukelee/.local/lib/python3.7/site-packages/zmq/tests/__pycache__/test_auth.cpython-37.pyc\r\n",
      "  /home/lukelee/.local/lib/python3.7/site-packages/zmq/tests/__pycache__/test_cffi_backend.cpython-37.pyc\r\n",
      "  /home/lukelee/.local/lib/python3.7/site-packages/zmq/tests/__pycache__/test_constants.cpython-37.pyc\r\n",
      "  /home/lukelee/.local/lib/python3.7/site-packages/zmq/tests/__pycache__/test_context.cpython-37.pyc\r\n",
      "  /home/lukelee/.local/lib/python3.7/site-packages/zmq/tests/__pycache__/test_cython.cpython-37.pyc\r\n",
      "  /home/lukelee/.local/lib/python3.7/site-packages/zmq/tests/__pycache__/test_decorators.cpython-37.pyc\r\n",
      "  /home/lukelee/.local/lib/python3.7/site-packages/zmq/tests/__pycache__/test_device.cpython-37.pyc\r\n",
      "  /home/lukelee/.local/lib/python3.7/site-packages/zmq/tests/__pycache__/test_draft.cpython-37.pyc\r\n",
      "  /home/lukelee/.local/lib/python3.7/site-packages/zmq/tests/__pycache__/test_error.cpython-37.pyc\r\n",
      "  /home/lukelee/.local/lib/python3.7/site-packages/zmq/tests/__pycache__/test_etc.cpython-37.pyc\r\n",
      "  /home/lukelee/.local/lib/python3.7/site-packages/zmq/tests/__pycache__/test_future.cpython-37.pyc\r\n",
      "  /home/lukelee/.local/lib/python3.7/site-packages/zmq/tests/__pycache__/test_imports.cpython-37.pyc\r\n",
      "  /home/lukelee/.local/lib/python3.7/site-packages/zmq/tests/__pycache__/test_includes.cpython-37.pyc\r\n",
      "  /home/lukelee/.local/lib/python3.7/site-packages/zmq/tests/__pycache__/test_ioloop.cpython-37.pyc\r\n",
      "  /home/lukelee/.local/lib/python3.7/site-packages/zmq/tests/__pycache__/test_log.cpython-37.pyc\r\n",
      "  /home/lukelee/.local/lib/python3.7/site-packages/zmq/tests/__pycache__/test_message.cpython-37.pyc\r\n",
      "  /home/lukelee/.local/lib/python3.7/site-packages/zmq/tests/__pycache__/test_monitor.cpython-37.pyc\r\n",
      "  /home/lukelee/.local/lib/python3.7/site-packages/zmq/tests/__pycache__/test_monqueue.cpython-37.pyc\r\n",
      "  /home/lukelee/.local/lib/python3.7/site-packages/zmq/tests/__pycache__/test_multipart.cpython-37.pyc\r\n",
      "  /home/lukelee/.local/lib/python3.7/site-packages/zmq/tests/__pycache__/test_mypy.cpython-37.pyc\r\n",
      "  /home/lukelee/.local/lib/python3.7/site-packages/zmq/tests/__pycache__/test_pair.cpython-37.pyc\r\n",
      "  /home/lukelee/.local/lib/python3.7/site-packages/zmq/tests/__pycache__/test_poll.cpython-37.pyc\r\n",
      "  /home/lukelee/.local/lib/python3.7/site-packages/zmq/tests/__pycache__/test_proxy_steerable.cpython-37.pyc\r\n",
      "  /home/lukelee/.local/lib/python3.7/site-packages/zmq/tests/__pycache__/test_pubsub.cpython-37.pyc\r\n",
      "  /home/lukelee/.local/lib/python3.7/site-packages/zmq/tests/__pycache__/test_reqrep.cpython-37.pyc\r\n",
      "  /home/lukelee/.local/lib/python3.7/site-packages/zmq/tests/__pycache__/test_retry_eintr.cpython-37.pyc\r\n",
      "  /home/lukelee/.local/lib/python3.7/site-packages/zmq/tests/__pycache__/test_security.cpython-37.pyc\r\n",
      "  /home/lukelee/.local/lib/python3.7/site-packages/zmq/tests/__pycache__/test_socket.cpython-37.pyc\r\n",
      "  /home/lukelee/.local/lib/python3.7/site-packages/zmq/tests/__pycache__/test_ssh.cpython-37.pyc\r\n",
      "  /home/lukelee/.local/lib/python3.7/site-packages/zmq/tests/__pycache__/test_version.cpython-37.pyc\r\n",
      "  /home/lukelee/.local/lib/python3.7/site-packages/zmq/tests/__pycache__/test_win32_shim.cpython-37.pyc\r\n",
      "  /home/lukelee/.local/lib/python3.7/site-packages/zmq/tests/__pycache__/test_z85.cpython-37.pyc\r\n",
      "  /home/lukelee/.local/lib/python3.7/site-packages/zmq/tests/__pycache__/test_zmqstream.cpython-37.pyc\r\n",
      "  /home/lukelee/.local/lib/python3.7/site-packages/zmq/tests/conftest.py\r\n",
      "  /home/lukelee/.local/lib/python3.7/site-packages/zmq/tests/test_asyncio.py\r\n",
      "  /home/lukelee/.local/lib/python3.7/site-packages/zmq/tests/test_auth.py\r\n",
      "  /home/lukelee/.local/lib/python3.7/site-packages/zmq/tests/test_cffi_backend.py\r\n",
      "  /home/lukelee/.local/lib/python3.7/site-packages/zmq/tests/test_constants.py\r\n",
      "  /home/lukelee/.local/lib/python3.7/site-packages/zmq/tests/test_context.py\r\n",
      "  /home/lukelee/.local/lib/python3.7/site-packages/zmq/tests/test_cython.py\r\n",
      "  /home/lukelee/.local/lib/python3.7/site-packages/zmq/tests/test_decorators.py\r\n",
      "  /home/lukelee/.local/lib/python3.7/site-packages/zmq/tests/test_device.py\r\n",
      "  /home/lukelee/.local/lib/python3.7/site-packages/zmq/tests/test_draft.py\r\n",
      "  /home/lukelee/.local/lib/python3.7/site-packages/zmq/tests/test_error.py\r\n",
      "  /home/lukelee/.local/lib/python3.7/site-packages/zmq/tests/test_etc.py\r\n",
      "  /home/lukelee/.local/lib/python3.7/site-packages/zmq/tests/test_future.py\r\n",
      "  /home/lukelee/.local/lib/python3.7/site-packages/zmq/tests/test_imports.py\r\n",
      "  /home/lukelee/.local/lib/python3.7/site-packages/zmq/tests/test_includes.py\r\n",
      "  /home/lukelee/.local/lib/python3.7/site-packages/zmq/tests/test_ioloop.py\r\n",
      "  /home/lukelee/.local/lib/python3.7/site-packages/zmq/tests/test_log.py\r\n",
      "  /home/lukelee/.local/lib/python3.7/site-packages/zmq/tests/test_message.py\r\n",
      "  /home/lukelee/.local/lib/python3.7/site-packages/zmq/tests/test_monitor.py\r\n",
      "  /home/lukelee/.local/lib/python3.7/site-packages/zmq/tests/test_monqueue.py\r\n",
      "  /home/lukelee/.local/lib/python3.7/site-packages/zmq/tests/test_multipart.py\r\n",
      "  /home/lukelee/.local/lib/python3.7/site-packages/zmq/tests/test_mypy.py\r\n",
      "  /home/lukelee/.local/lib/python3.7/site-packages/zmq/tests/test_pair.py\r\n",
      "  /home/lukelee/.local/lib/python3.7/site-packages/zmq/tests/test_poll.py\r\n",
      "  /home/lukelee/.local/lib/python3.7/site-packages/zmq/tests/test_proxy_steerable.py\r\n",
      "  /home/lukelee/.local/lib/python3.7/site-packages/zmq/tests/test_pubsub.py\r\n",
      "  /home/lukelee/.local/lib/python3.7/site-packages/zmq/tests/test_reqrep.py\r\n",
      "  /home/lukelee/.local/lib/python3.7/site-packages/zmq/tests/test_retry_eintr.py\r\n",
      "  /home/lukelee/.local/lib/python3.7/site-packages/zmq/tests/test_security.py\r\n",
      "  /home/lukelee/.local/lib/python3.7/site-packages/zmq/tests/test_socket.py\r\n",
      "  /home/lukelee/.local/lib/python3.7/site-packages/zmq/tests/test_ssh.py\r\n",
      "  /home/lukelee/.local/lib/python3.7/site-packages/zmq/tests/test_version.py\r\n",
      "  /home/lukelee/.local/lib/python3.7/site-packages/zmq/tests/test_win32_shim.py\r\n",
      "  /home/lukelee/.local/lib/python3.7/site-packages/zmq/tests/test_z85.py\r\n",
      "  /home/lukelee/.local/lib/python3.7/site-packages/zmq/tests/test_zmqstream.py\r\n",
      "  /home/lukelee/.local/lib/python3.7/site-packages/zmq/utils/__init__.py\r\n",
      "  /home/lukelee/.local/lib/python3.7/site-packages/zmq/utils/__pycache__/__init__.cpython-37.pyc\r\n",
      "  /home/lukelee/.local/lib/python3.7/site-packages/zmq/utils/__pycache__/constant_names.cpython-37.pyc\r\n",
      "  /home/lukelee/.local/lib/python3.7/site-packages/zmq/utils/__pycache__/garbage.cpython-37.pyc\r\n",
      "  /home/lukelee/.local/lib/python3.7/site-packages/zmq/utils/__pycache__/interop.cpython-37.pyc\r\n",
      "  /home/lukelee/.local/lib/python3.7/site-packages/zmq/utils/__pycache__/jsonapi.cpython-37.pyc\r\n",
      "  /home/lukelee/.local/lib/python3.7/site-packages/zmq/utils/__pycache__/monitor.cpython-37.pyc\r\n",
      "  /home/lukelee/.local/lib/python3.7/site-packages/zmq/utils/__pycache__/strtypes.cpython-37.pyc\r\n",
      "  /home/lukelee/.local/lib/python3.7/site-packages/zmq/utils/__pycache__/win32.cpython-37.pyc\r\n",
      "  /home/lukelee/.local/lib/python3.7/site-packages/zmq/utils/__pycache__/z85.cpython-37.pyc\r\n",
      "  /home/lukelee/.local/lib/python3.7/site-packages/zmq/utils/buffers.pxd\r\n",
      "  /home/lukelee/.local/lib/python3.7/site-packages/zmq/utils/compiler.json\r\n",
      "  /home/lukelee/.local/lib/python3.7/site-packages/zmq/utils/config.json\r\n",
      "  /home/lukelee/.local/lib/python3.7/site-packages/zmq/utils/constant_names.py\r\n",
      "  /home/lukelee/.local/lib/python3.7/site-packages/zmq/utils/garbage.py\r\n",
      "  /home/lukelee/.local/lib/python3.7/site-packages/zmq/utils/getpid_compat.h\r\n",
      "  /home/lukelee/.local/lib/python3.7/site-packages/zmq/utils/interop.py\r\n",
      "  /home/lukelee/.local/lib/python3.7/site-packages/zmq/utils/ipcmaxlen.h\r\n",
      "  /home/lukelee/.local/lib/python3.7/site-packages/zmq/utils/jsonapi.py\r\n",
      "  /home/lukelee/.local/lib/python3.7/site-packages/zmq/utils/monitor.py\r\n",
      "  /home/lukelee/.local/lib/python3.7/site-packages/zmq/utils/mutex.h\r\n",
      "  /home/lukelee/.local/lib/python3.7/site-packages/zmq/utils/pyversion_compat.h\r\n",
      "  /home/lukelee/.local/lib/python3.7/site-packages/zmq/utils/strtypes.py\r\n",
      "  /home/lukelee/.local/lib/python3.7/site-packages/zmq/utils/win32.py\r\n",
      "  /home/lukelee/.local/lib/python3.7/site-packages/zmq/utils/z85.py\r\n",
      "  /home/lukelee/.local/lib/python3.7/site-packages/zmq/utils/zmq_compat.h\r\n",
      "  /home/lukelee/.local/lib/python3.7/site-packages/zmq/utils/zmq_constants.h\r\n",
      "Proceed (y/n)? "
     ]
    }
   ],
   "source": [
    "pip uninstall pyzmq "
   ]
  },
  {
   "cell_type": "code",
   "execution_count": null,
   "id": "4723a6f0",
   "metadata": {},
   "outputs": [],
   "source": [
    "pip install pyzmq "
   ]
  },
  {
   "cell_type": "code",
   "execution_count": 3,
   "id": "d9c95f80",
   "metadata": {},
   "outputs": [
    {
     "name": "stdout",
     "output_type": "stream",
     "text": [
      "Collecting pandas\n",
      "  Using cached https://files.pythonhosted.org/packages/c3/e2/00cacecafbab071c787019f00ad84ca3185952f6bb9bca9550ed83870d4d/pandas-1.1.5-cp36-cp36m-manylinux1_x86_64.whl\n",
      "Collecting pytz>=2017.2 (from pandas)\n",
      "  Using cached https://files.pythonhosted.org/packages/70/94/784178ca5dd892a98f113cdd923372024dc04b8d40abe77ca76b5fb90ca6/pytz-2021.1-py2.py3-none-any.whl\n",
      "Collecting numpy>=1.15.4 (from pandas)\n",
      "  Using cached https://files.pythonhosted.org/packages/45/b2/6c7545bb7a38754d63048c7696804a0d947328125d81bf12beaa692c3ae3/numpy-1.19.5-cp36-cp36m-manylinux1_x86_64.whl\n",
      "Collecting python-dateutil>=2.7.3 (from pandas)\n",
      "  Using cached https://files.pythonhosted.org/packages/36/7a/87837f39d0296e723bb9b62bbb257d0355c7f6128853c78955f57342a56d/python_dateutil-2.8.2-py2.py3-none-any.whl\n",
      "Collecting six>=1.5 (from python-dateutil>=2.7.3->pandas)\n",
      "  Using cached https://files.pythonhosted.org/packages/d9/5a/e7c31adbe875f2abbb91bd84cf2dc52d792b5a01506781dbcf25c91daf11/six-1.16.0-py2.py3-none-any.whl\n",
      "Installing collected packages: pytz, numpy, six, python-dateutil, pandas\n",
      "Successfully installed numpy-1.19.5 pandas-1.1.5 python-dateutil-2.8.2 pytz-2021.1 six-1.16.0\n"
     ]
    }
   ],
   "source": [
    "!pip3 install pandas"
   ]
  },
  {
   "cell_type": "code",
   "execution_count": 4,
   "id": "6ad85cd7",
   "metadata": {
    "scrolled": true
   },
   "outputs": [
    {
     "ename": "ModuleNotFoundError",
     "evalue": "No module named 'pandas'",
     "output_type": "error",
     "traceback": [
      "\u001b[0;31m---------------------------------------------------------------------------\u001b[0m",
      "\u001b[0;31mModuleNotFoundError\u001b[0m                       Traceback (most recent call last)",
      "\u001b[0;32m/tmp/ipykernel_7809/3648170110.py\u001b[0m in \u001b[0;36m<module>\u001b[0;34m\u001b[0m\n\u001b[0;32m----> 1\u001b[0;31m \u001b[0;32mimport\u001b[0m \u001b[0mpandas\u001b[0m\u001b[0;34m\u001b[0m\u001b[0;34m\u001b[0m\u001b[0m\n\u001b[0m",
      "\u001b[0;31mModuleNotFoundError\u001b[0m: No module named 'pandas'"
     ]
    }
   ],
   "source": [
    "import pandas"
   ]
  },
  {
   "cell_type": "code",
   "execution_count": 2,
   "id": "0d39e055",
   "metadata": {
    "collapsed": true
   },
   "outputs": [
    {
     "name": "stdout",
     "output_type": "stream",
     "text": [
      "Collecting pandas\n",
      "  Downloading https://files.pythonhosted.org/packages/12/01/360d7f444f910ae16496c07e3f003cb8c641b4ca6c033408a4469a904df3/pandas-1.3.1.tar.gz (4.7MB)\n",
      "\u001b[K    100% |████████████████████████████████| 4.7MB 290kB/s eta 0:00:01\n",
      "\u001b[?25h    Complete output from command python setup.py egg_info:\n",
      "    Traceback (most recent call last):\n",
      "      File \"<string>\", line 1, in <module>\n",
      "      File \"/tmp/pip-build-86py55ao/pandas/setup.py\", line 18, in <module>\n",
      "        import numpy\n",
      "    ModuleNotFoundError: No module named 'numpy'\n",
      "    \n",
      "    ----------------------------------------\n",
      "\u001b[31mCommand \"python setup.py egg_info\" failed with error code 1 in /tmp/pip-build-86py55ao/pandas/\u001b[0m\n",
      "Note: you may need to restart the kernel to use updated packages.\n"
     ]
    }
   ],
   "source": [
    "pip install pandas"
   ]
  },
  {
   "cell_type": "code",
   "execution_count": 12,
   "id": "ed057398",
   "metadata": {
    "collapsed": true
   },
   "outputs": [
    {
     "name": "stdout",
     "output_type": "stream",
     "text": [
      "Collecting azure-cognitiveservices-vision-computervision\n",
      "  Using cached https://files.pythonhosted.org/packages/f4/cc/d371c24ef8e984c1dfde5c7837c4ab03dc3cdafc321d1f733518e5148567/azure_cognitiveservices_vision_computervision-0.9.0-py2.py3-none-any.whl\n",
      "Collecting msrest>=0.5.0 (from azure-cognitiveservices-vision-computervision)\n",
      "  Using cached https://files.pythonhosted.org/packages/e8/cc/6c96bfb3d3cf4c3bdedfa6b46503223f4c2a4fa388377697e0f8082a4fed/msrest-0.6.21-py2.py3-none-any.whl\n",
      "Collecting azure-common~=1.1 (from azure-cognitiveservices-vision-computervision)\n",
      "  Using cached https://files.pythonhosted.org/packages/9e/1e/cfe7987493242e8b9ead309cfd76fc500c38bbefe192192b813325d289f3/azure_common-1.1.27-py2.py3-none-any.whl\n",
      "Collecting certifi>=2017.4.17 (from msrest>=0.5.0->azure-cognitiveservices-vision-computervision)\n",
      "  Using cached https://files.pythonhosted.org/packages/05/1b/0a0dece0e8aa492a6ec9e4ad2fe366b511558cdc73fd3abc82ba7348e875/certifi-2021.5.30-py2.py3-none-any.whl\n",
      "Collecting requests~=2.16 (from msrest>=0.5.0->azure-cognitiveservices-vision-computervision)\n",
      "  Using cached https://files.pythonhosted.org/packages/92/96/144f70b972a9c0eabbd4391ef93ccd49d0f2747f4f6a2a2738e99e5adc65/requests-2.26.0-py2.py3-none-any.whl\n",
      "Collecting isodate>=0.6.0 (from msrest>=0.5.0->azure-cognitiveservices-vision-computervision)\n",
      "  Using cached https://files.pythonhosted.org/packages/9b/9f/b36f7774ff5ea8e428fdcfc4bb332c39ee5b9362ddd3d40d9516a55221b2/isodate-0.6.0-py2.py3-none-any.whl\n",
      "Collecting requests-oauthlib>=0.5.0 (from msrest>=0.5.0->azure-cognitiveservices-vision-computervision)\n",
      "  Using cached https://files.pythonhosted.org/packages/a3/12/b92740d845ab62ea4edf04d2f4164d82532b5a0b03836d4d4e71c6f3d379/requests_oauthlib-1.3.0-py2.py3-none-any.whl\n",
      "Collecting urllib3<1.27,>=1.21.1 (from requests~=2.16->msrest>=0.5.0->azure-cognitiveservices-vision-computervision)\n",
      "  Using cached https://files.pythonhosted.org/packages/5f/64/43575537846896abac0b15c3e5ac678d787a4021e906703f1766bfb8ea11/urllib3-1.26.6-py2.py3-none-any.whl\n",
      "Collecting charset-normalizer~=2.0.0; python_version >= \"3\" (from requests~=2.16->msrest>=0.5.0->azure-cognitiveservices-vision-computervision)\n",
      "  Using cached https://files.pythonhosted.org/packages/33/53/b7f6126a2b9fd878b025fe3c40266cfaad696f312165008ce045bffa3fe7/charset_normalizer-2.0.4-py3-none-any.whl\n",
      "Collecting idna<4,>=2.5; python_version >= \"3\" (from requests~=2.16->msrest>=0.5.0->azure-cognitiveservices-vision-computervision)\n",
      "  Using cached https://files.pythonhosted.org/packages/d7/77/ff688d1504cdc4db2a938e2b7b9adee5dd52e34efbd2431051efc9984de9/idna-3.2-py3-none-any.whl\n",
      "Collecting six (from isodate>=0.6.0->msrest>=0.5.0->azure-cognitiveservices-vision-computervision)\n",
      "  Using cached https://files.pythonhosted.org/packages/d9/5a/e7c31adbe875f2abbb91bd84cf2dc52d792b5a01506781dbcf25c91daf11/six-1.16.0-py2.py3-none-any.whl\n",
      "Collecting oauthlib>=3.0.0 (from requests-oauthlib>=0.5.0->msrest>=0.5.0->azure-cognitiveservices-vision-computervision)\n",
      "  Using cached https://files.pythonhosted.org/packages/e8/5d/9dd1c29e5a786525f6342f6c1d812ed2e37edc653ad297048c1668988053/oauthlib-3.1.1-py2.py3-none-any.whl\n",
      "Installing collected packages: certifi, urllib3, charset-normalizer, idna, requests, six, isodate, oauthlib, requests-oauthlib, msrest, azure-common, azure-cognitiveservices-vision-computervision\n",
      "Successfully installed azure-cognitiveservices-vision-computervision-0.9.0 azure-common-1.1.27 certifi-2021.5.30 charset-normalizer-2.0.4 idna-3.2 isodate-0.6.0 msrest-0.6.21 oauthlib-3.1.1 requests-2.26.0 requests-oauthlib-1.3.0 six-1.16.0 urllib3-1.26.6\n"
     ]
    }
   ],
   "source": [
    "!pip3 install azure-cognitiveservices-vision-computervision"
   ]
  },
  {
   "cell_type": "code",
   "execution_count": 1,
   "id": "c07b474f",
   "metadata": {},
   "outputs": [],
   "source": [
    "#測試連線，驗證用戶端\n",
    "from azure.cognitiveservices.vision.computervision \\\n",
    "import ComputerVisionClient\n",
    "from msrest.authentication import CognitiveServicesCredentials  \n",
    "\n",
    "SUBSCRIPTION_KEY = \"f7a28305feb74b6885686a7bc18a5d6b\"     # 金鑰隨便其一都可\n",
    "ENDPOINT = \"https://luke761208.cognitiveservices.azure.com/\"  # 端點\n",
    "CV_CLIENT = ComputerVisionClient(\n",
    "    ENDPOINT, CognitiveServicesCredentials(SUBSCRIPTION_KEY)\n",
    ")"
   ]
  },
  {
   "cell_type": "code",
   "execution_count": 4,
   "id": "2e306173",
   "metadata": {
    "collapsed": true
   },
   "outputs": [
    {
     "name": "stdout",
     "output_type": "stream",
     "text": [
      "Collecting Pillow\n",
      "  Downloading https://files.pythonhosted.org/packages/8e/7a/b047f6f80fdb02c0cca1d3761d71e9800bcf6d4874b71c9e6548ec59e156/Pillow-8.3.1-cp37-cp37m-manylinux_2_5_x86_64.manylinux1_x86_64.whl (3.0MB)\n",
      "\u001b[K    100% |████████████████████████████████| 3.0MB 402kB/s eta 0:00:01\n",
      "\u001b[?25hInstalling collected packages: Pillow\n",
      "Successfully installed Pillow-8.3.1\n",
      "Note: you may need to restart the kernel to use updated packages.\n"
     ]
    }
   ],
   "source": [
    "pip install Pillow"
   ]
  },
  {
   "cell_type": "code",
   "execution_count": 8,
   "id": "4f31d86e",
   "metadata": {
    "collapsed": true
   },
   "outputs": [
    {
     "name": "stdout",
     "output_type": "stream",
     "text": [
      "Collecting imgur-python\n",
      "  Downloading https://files.pythonhosted.org/packages/54/2d/a50ab5c5c89d6fdc35a8a5b5c309a9463e3a28bd3df8a5d5d6a8e5504c90/imgur_python-0.2.3-py3-none-any.whl\n",
      "Collecting fleep>=1.0 (from imgur-python)\n",
      "  Downloading https://files.pythonhosted.org/packages/7e/dc/4ff28535d084c2cbb99a2298f8b653bdd3fec0076c1a273d3c7a3e9679a5/fleep-1.0.1.tar.gz\n",
      "Collecting requests>=2.0 (from imgur-python)\n",
      "  Using cached https://files.pythonhosted.org/packages/92/96/144f70b972a9c0eabbd4391ef93ccd49d0f2747f4f6a2a2738e99e5adc65/requests-2.26.0-py2.py3-none-any.whl\n",
      "Collecting charset-normalizer~=2.0.0; python_version >= \"3\" (from requests>=2.0->imgur-python)\n",
      "  Using cached https://files.pythonhosted.org/packages/33/53/b7f6126a2b9fd878b025fe3c40266cfaad696f312165008ce045bffa3fe7/charset_normalizer-2.0.4-py3-none-any.whl\n",
      "Collecting certifi>=2017.4.17 (from requests>=2.0->imgur-python)\n",
      "  Using cached https://files.pythonhosted.org/packages/05/1b/0a0dece0e8aa492a6ec9e4ad2fe366b511558cdc73fd3abc82ba7348e875/certifi-2021.5.30-py2.py3-none-any.whl\n",
      "Collecting urllib3<1.27,>=1.21.1 (from requests>=2.0->imgur-python)\n",
      "  Using cached https://files.pythonhosted.org/packages/5f/64/43575537846896abac0b15c3e5ac678d787a4021e906703f1766bfb8ea11/urllib3-1.26.6-py2.py3-none-any.whl\n",
      "Collecting idna<4,>=2.5; python_version >= \"3\" (from requests>=2.0->imgur-python)\n",
      "  Using cached https://files.pythonhosted.org/packages/d7/77/ff688d1504cdc4db2a938e2b7b9adee5dd52e34efbd2431051efc9984de9/idna-3.2-py3-none-any.whl\n",
      "Building wheels for collected packages: fleep\n",
      "  Running setup.py bdist_wheel for fleep ... \u001b[?25ldone\n",
      "\u001b[?25h  Stored in directory: /home/lukelee/.cache/pip/wheels/5b/35/8c/49e6c44f34b3279ee3f7836384c29fd0ebe4d058e0e7cbf3b2\n",
      "Successfully built fleep\n",
      "Installing collected packages: fleep, charset-normalizer, certifi, urllib3, idna, requests, imgur-python\n",
      "Successfully installed certifi-2021.5.30 charset-normalizer-2.0.4 fleep-1.0.1 idna-3.2 imgur-python-0.2.3 requests-2.26.0 urllib3-1.26.6\n",
      "Note: you may need to restart the kernel to use updated packages.\n"
     ]
    }
   ],
   "source": [
    "pip install imgur-python"
   ]
  },
  {
   "cell_type": "code",
   "execution_count": 11,
   "id": "d8d044e1",
   "metadata": {
    "collapsed": true
   },
   "outputs": [
    {
     "name": "stdout",
     "output_type": "stream",
     "text": [
      "Collecting imgur-python\n",
      "  Using cached https://files.pythonhosted.org/packages/54/2d/a50ab5c5c89d6fdc35a8a5b5c309a9463e3a28bd3df8a5d5d6a8e5504c90/imgur_python-0.2.3-py3-none-any.whl\n",
      "Collecting fleep>=1.0 (from imgur-python)\n",
      "Collecting requests>=2.0 (from imgur-python)\n",
      "  Using cached https://files.pythonhosted.org/packages/92/96/144f70b972a9c0eabbd4391ef93ccd49d0f2747f4f6a2a2738e99e5adc65/requests-2.26.0-py2.py3-none-any.whl\n",
      "Collecting idna<4,>=2.5; python_version >= \"3\" (from requests>=2.0->imgur-python)\n",
      "  Using cached https://files.pythonhosted.org/packages/d7/77/ff688d1504cdc4db2a938e2b7b9adee5dd52e34efbd2431051efc9984de9/idna-3.2-py3-none-any.whl\n",
      "Collecting certifi>=2017.4.17 (from requests>=2.0->imgur-python)\n",
      "  Using cached https://files.pythonhosted.org/packages/05/1b/0a0dece0e8aa492a6ec9e4ad2fe366b511558cdc73fd3abc82ba7348e875/certifi-2021.5.30-py2.py3-none-any.whl\n",
      "Collecting urllib3<1.27,>=1.21.1 (from requests>=2.0->imgur-python)\n",
      "  Using cached https://files.pythonhosted.org/packages/5f/64/43575537846896abac0b15c3e5ac678d787a4021e906703f1766bfb8ea11/urllib3-1.26.6-py2.py3-none-any.whl\n",
      "Collecting charset-normalizer~=2.0.0; python_version >= \"3\" (from requests>=2.0->imgur-python)\n",
      "  Using cached https://files.pythonhosted.org/packages/33/53/b7f6126a2b9fd878b025fe3c40266cfaad696f312165008ce045bffa3fe7/charset_normalizer-2.0.4-py3-none-any.whl\n",
      "Installing collected packages: fleep, idna, certifi, urllib3, charset-normalizer, requests, imgur-python\n",
      "Successfully installed certifi-2021.5.30 charset-normalizer-2.0.4 fleep-1.0.1 idna-3.2 imgur-python-0.2.3 requests-2.26.0 urllib3-1.26.6\n",
      "Note: you may need to restart the kernel to use updated packages.\n"
     ]
    }
   ],
   "source": [
    "pip install imgur-python"
   ]
  },
  {
   "cell_type": "code",
   "execution_count": 2,
   "id": "98a481c1",
   "metadata": {},
   "outputs": [
    {
     "name": "stdout",
     "output_type": "stream",
     "text": [
      "https://i.imgur.com/cFGa9a1.jpeg\n"
     ]
    }
   ],
   "source": [
    "# 轉換url\n",
    "from imgur_python import Imgur\n",
    "\n",
    "IMGUR_CONFIG = {\n",
    "  \"client_id\": \"d89d1f0ca44b4a4\",\n",
    "  \"client_secret\": \"efb9174886a43ad1572352afab734a00506df5ba\",\n",
    "  \"access_token\": \"2fbc429f3a84798f12e95a3bd46a9e389741f000\",\n",
    "  \"refresh_token\": \"98cf739adc596ccd77af56e02ef98709ae223e34\"\n",
    "}\n",
    "IMGUR_CLIENT = Imgur(config=IMGUR_CONFIG)\n",
    "image = IMGUR_CLIENT.image_upload(\n",
    "  \"./nba.jpg\", \"title\", \"description\")\n",
    "link = image[\"response\"][\"data\"][\"link\"]\n",
    "\n",
    "print(link)"
   ]
  },
  {
   "cell_type": "code",
   "execution_count": 42,
   "id": "dde86412",
   "metadata": {},
   "outputs": [],
   "source": [
    "from io import BytesIO\n",
    "import requests\n",
    "from PIL import Image, ImageDraw, ImageFont\n",
    "\n",
    "url = \"https://i.imgur.com/ZKZPKQe.jpeg\"  # 上傳照片到imgur，回傳的url\n",
    "response = requests.get(url)\n",
    "img = Image.open(BytesIO(response.content))"
   ]
  },
  {
   "cell_type": "code",
   "execution_count": 43,
   "id": "e2c4a621",
   "metadata": {},
   "outputs": [],
   "source": [
    "draw = ImageDraw.Draw(img)\n",
    "font_size = int(5e-2 * img.size[1])\n",
    "fnt = ImageFont.truetype(\n",
    "  \"./TaipeiSansTCBeta-Regular.ttf\",\n",
    "  size=font_size)"
   ]
  },
  {
   "cell_type": "code",
   "execution_count": 44,
   "id": "3287c4a8",
   "metadata": {},
   "outputs": [
    {
     "name": "stdout",
     "output_type": "stream",
     "text": [
      "person at location 56, 100, 130, 182\n"
     ]
    }
   ],
   "source": [
    "object_detection = CV_CLIENT.detect_objects(url)\n",
    "if len(object_detection.objects) > 0:\n",
    "    for obj in object_detection.objects:\n",
    "        left = obj.rectangle.x\n",
    "        top = obj.rectangle.y\n",
    "        right = obj.rectangle.x + obj.rectangle.w\n",
    "        bot = obj.rectangle.y + obj.rectangle.h\n",
    "        name = obj.object_property\n",
    "        confidence = obj.confidence\n",
    "        print(\"{} at location {}, {}, {}, {}\".format(\n",
    "          name, left, right, top, bot))\n",
    "        draw.rectangle(\n",
    "          [left, top, right, bot],\n",
    "          outline=(255, 0, 0), width=3)\n",
    "        draw.text(\n",
    "            [left, top + font_size],\n",
    "            \"{0} {1:0.1f}\".format(name, confidence * 100),\n",
    "            fill=(255, 0, 0),\n",
    "            font=fnt,\n",
    "        )\n",
    "        \n",
    "img.save(\"output.png\")"
   ]
  },
  {
   "cell_type": "code",
   "execution_count": 45,
   "id": "78369865",
   "metadata": {},
   "outputs": [
    {
     "name": "stdout",
     "output_type": "stream",
     "text": [
      "'a basketball player jumping to dunk a basketball' with confidence 46.20% \n",
      "\n"
     ]
    }
   ],
   "source": [
    "description_results = CV_CLIENT.describe_image(url)\n",
    "output = \"\"\n",
    "for caption in description_results.captions:\n",
    "    output += \"'{}' with confidence {:.2f}% \\n\".format(\n",
    "        caption.text, caption.confidence * 100\n",
    "    )\n",
    "print(output)"
   ]
  },
  {
   "cell_type": "markdown",
   "id": "3b3c0526",
   "metadata": {},
   "source": [
    "# 文字辨識 OCR"
   ]
  },
  {
   "cell_type": "code",
   "execution_count": 1,
   "id": "8d0ef872",
   "metadata": {},
   "outputs": [],
   "source": [
    "from azure.cognitiveservices.vision.computervision \\\n",
    "import ComputerVisionClient\n",
    "from msrest.authentication import (\n",
    "  CognitiveServicesCredentials\n",
    ")\n",
    "from azure.cognitiveservices.vision.computervision.models \\\n",
    "import OperationStatusCodes\n",
    "SUBSCRIPTION_KEY = \"f7a28305feb74b6885686a7bc18a5d6b\"     # 金鑰隨便其一都可\n",
    "ENDPOINT = \"https://luke761208.cognitiveservices.azure.com/\"  # 端點\n",
    "CV_CLIENT = ComputerVisionClient(\n",
    "    ENDPOINT, CognitiveServicesCredentials(SUBSCRIPTION_KEY)\n",
    ")"
   ]
  },
  {
   "cell_type": "code",
   "execution_count": 2,
   "id": "1e82a716",
   "metadata": {},
   "outputs": [
    {
     "name": "stdout",
     "output_type": "stream",
     "text": [
      "https://i.imgur.com/bXwk81m.jpeg\n"
     ]
    }
   ],
   "source": [
    "# 轉換url\n",
    "from imgur_python import Imgur\n",
    "\n",
    "IMGUR_CONFIG = {\n",
    "  \"client_id\": \"d89d1f0ca44b4a4\",\n",
    "  \"client_secret\": \"efb9174886a43ad1572352afab734a00506df5ba\",\n",
    "  \"access_token\": \"2fbc429f3a84798f12e95a3bd46a9e389741f000\",\n",
    "  \"refresh_token\": \"98cf739adc596ccd77af56e02ef98709ae223e34\"\n",
    "}\n",
    "IMGUR_CLIENT = Imgur(config=IMGUR_CONFIG)\n",
    "image = IMGUR_CLIENT.image_upload(\n",
    "  \"./OCR.jpg\", \"title\", \"description\")\n",
    "link = image[\"response\"][\"data\"][\"link\"]\n",
    "\n",
    "print(link)"
   ]
  },
  {
   "cell_type": "code",
   "execution_count": 3,
   "id": "032dfd51",
   "metadata": {},
   "outputs": [],
   "source": [
    "from io import BytesIO\n",
    "import requests\n",
    "from PIL import Image, ImageDraw, ImageFont\n",
    "\n",
    "url = \"https://i.imgur.com/bXwk81m.jpeg\"\n",
    "response = requests.get(url)\n",
    "img = Image.open(BytesIO(response.content))"
   ]
  },
  {
   "cell_type": "code",
   "execution_count": 4,
   "id": "88aa9b2b",
   "metadata": {},
   "outputs": [],
   "source": [
    "draw = ImageDraw.Draw(img)\n",
    "font_size = int(5e-2 * img.size[1])\n",
    "fnt = ImageFont.truetype(\n",
    "  \"./TaipeiSansTCBeta-Regular.ttf\",\n",
    "  size=font_size)"
   ]
  },
  {
   "cell_type": "code",
   "execution_count": 5,
   "id": "08a2d826",
   "metadata": {},
   "outputs": [],
   "source": [
    "ocr_results = CV_CLIENT.read(url, raw=True)\n",
    "operation_location_remote = \\\n",
    "ocr_results.headers[\"Operation-Location\"]\n",
    "operation_id = operation_location_remote.split(\"/\")[-1]"
   ]
  },
  {
   "cell_type": "code",
   "execution_count": 7,
   "id": "1a718374",
   "metadata": {},
   "outputs": [],
   "source": [
    "import time\n",
    "status = [\"notStarted\", \"running\"]\n",
    "while True:\n",
    "    get_handw_text_results = \\\n",
    "    CV_CLIENT.get_read_result(operation_id)\n",
    "    if get_handw_text_results.status not in status:\n",
    "        break\n",
    "    time.sleep(1)\n"
   ]
  },
  {
   "cell_type": "code",
   "execution_count": 8,
   "id": "51010889",
   "metadata": {},
   "outputs": [],
   "source": [
    "succeeded = OperationStatusCodes.succeeded\n",
    "\n",
    "if get_handw_text_results.status == succeeded:\n",
    "    res = get_handw_text_results.analyze_result.read_results\n",
    "    for text_result in res:\n",
    "        for line in text_result.lines:\n",
    "            bounding_box = line.bounding_box\n",
    "            bounding_box += bounding_box[:2]\n",
    "            draw.line(\n",
    "                line.bounding_box, \n",
    "                fill=(255, 0, 0), \n",
    "                width=int(font_size / 10)\n",
    "            )\n",
    "            left = line.bounding_box[0]\n",
    "            top = line.bounding_box[1]\n",
    "            draw.text(\n",
    "                [left, top - font_size],\n",
    "                line.text,\n",
    "                fill=(0, 255, 255),\n",
    "                font=fnt,\n",
    "            )\n",
    "            \n",
    "img.save(\"OCR_output.png\")"
   ]
  },
  {
   "cell_type": "code",
   "execution_count": 38,
   "id": "9172372e",
   "metadata": {},
   "outputs": [],
   "source": [
    "from azure.cognitiveservices.vision.computervision \\\n",
    "import ComputerVisionClient\n",
    "from msrest.authentication import (\n",
    "  CognitiveServicesCredentials\n",
    ")\n",
    "SUBSCRIPTION_KEY = \"f7a28305feb74b6885686a7bc18a5d6b\"\n",
    "ENDPOINT = \"https://luke761208.cognitiveservices.azure.com/\"\n",
    "CV_CLIENT = ComputerVisionClient(\n",
    "    ENDPOINT, CognitiveServicesCredentials(SUBSCRIPTION_KEY)\n",
    ")"
   ]
  },
  {
   "cell_type": "code",
   "execution_count": 9,
   "id": "5f34288c",
   "metadata": {},
   "outputs": [
    {
     "name": "stdout",
     "output_type": "stream",
     "text": [
      "'text, letter' with confidence 100.00% \n",
      "\n"
     ]
    }
   ],
   "source": [
    "description_results = CV_CLIENT.describe_image(url)\n",
    "output = \"\"\n",
    "for caption in description_results.captions:\n",
    "    output += \"'{}' with confidence {:.2f}% \\n\".format(\n",
    "        caption.text, caption.confidence * 100\n",
    "    )\n",
    "print(output)"
   ]
  },
  {
   "cell_type": "code",
   "execution_count": null,
   "id": "98d3c422",
   "metadata": {},
   "outputs": [],
   "source": []
  }
 ],
 "metadata": {
  "kernelspec": {
   "display_name": "Python 3 (ipykernel)",
   "language": "python",
   "name": "python3"
  },
  "language_info": {
   "codemirror_mode": {
    "name": "ipython",
    "version": 3
   },
   "file_extension": ".py",
   "mimetype": "text/x-python",
   "name": "python",
   "nbconvert_exporter": "python",
   "pygments_lexer": "ipython3",
   "version": "3.7.5"
  }
 },
 "nbformat": 4,
 "nbformat_minor": 5
}
